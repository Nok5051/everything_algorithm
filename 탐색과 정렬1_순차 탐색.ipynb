{
 "cells": [
  {
   "cell_type": "markdown",
   "metadata": {},
   "source": [
    "# 1. 문제 설명 \n",
    "주어진 리스트에 특정한 값이 있는지 찾아 그 위치를 돌려주는 알고리즘을 만들어 보새요.    \n",
    "리스트에 찾는 값이 없다면 -1 을 돌려줍니다.\n",
    "\n",
    "> **순차 탐색이란?**     \n",
    "리스트 안에 있는 원소를 한나씩 순차적으로 비교하면서 탐색한다"
   ]
  },
  {
   "cell_type": "markdown",
   "metadata": {},
   "source": [
    "## 2. 알고리즘"
   ]
  },
  {
   "cell_type": "code",
   "execution_count": 3,
   "metadata": {},
   "outputs": [],
   "source": [
    "def search_list(a, x):\n",
    "    n = len(a)\n",
    "    \n",
    "    for i in range(0, n):\n",
    "        \n",
    "        if x== a[i]:\n",
    "            return i\n",
    "    \n",
    "    return -1     "
   ]
  },
  {
   "cell_type": "code",
   "execution_count": 4,
   "metadata": {},
   "outputs": [],
   "source": [
    "v = [17, 92, 18, 33, 58, 7, 33, 42]"
   ]
  },
  {
   "cell_type": "code",
   "execution_count": 5,
   "metadata": {},
   "outputs": [
    {
     "name": "stdout",
     "output_type": "stream",
     "text": [
      "2\n"
     ]
    }
   ],
   "source": [
    "print(search_list(v, 18))"
   ]
  },
  {
   "cell_type": "code",
   "execution_count": 6,
   "metadata": {},
   "outputs": [
    {
     "name": "stdout",
     "output_type": "stream",
     "text": [
      "3\n"
     ]
    }
   ],
   "source": [
    "print(search_list(v, 33))"
   ]
  },
  {
   "cell_type": "code",
   "execution_count": 7,
   "metadata": {},
   "outputs": [
    {
     "name": "stdout",
     "output_type": "stream",
     "text": [
      "-1\n"
     ]
    }
   ],
   "source": [
    "print(search_list(v, 900))"
   ]
  },
  {
   "cell_type": "markdown",
   "metadata": {},
   "source": [
    "### 2-1. 문제 해설 \n",
    "> * n = len(a) 리스트 a의 길이를 수치화       \n",
    "> * for 문을 통해 리스트 a의 값을 순차적으로 불러오고 비교하고자하는 값 x와 같은지 순차탐색\n"
   ]
  },
  {
   "cell_type": "markdown",
   "metadata": {},
   "source": [
    "## 3. 문제\n",
    "\n",
    "### 3-1       \n",
    ">프로그램 3-1 은 리스트에 찾는 값이 여러 개 있더라도 첫 번쨰 위치만 결과로 돌려줍니다.     \n",
    "찾는 값이 나오는 모든 위치를 리스트로 돌려주는 탐색 알고리즘을 만들어 보세요.           \n",
    "찾는 값이 리스트에 없다면 빈 리스트인 [] 를 돌려줍니다.       \n",
    "       "
   ]
  },
  {
   "cell_type": "markdown",
   "metadata": {},
   "source": [
    "### 틀린 답"
   ]
  },
  {
   "cell_type": "code",
   "execution_count": 8,
   "metadata": {},
   "outputs": [],
   "source": [
    "def search_list2(a, x):\n",
    "    n = len(a)\n",
    "    n2 = len(x)\n",
    "    \n",
    "    result = []\n",
    "    \n",
    "    for i in range(0, n):\n",
    "        for j in range(0, n2):    \n",
    "            if a[i] == x[j]:\n",
    "                result.append(i)\n",
    "                \n",
    "                return result\n",
    "    \n",
    "    return []     "
   ]
  },
  {
   "cell_type": "code",
   "execution_count": 9,
   "metadata": {},
   "outputs": [],
   "source": [
    "v = [17, 92, 18, 33, 58, 7, 33, 42]\n",
    "c = [92, 18]"
   ]
  },
  {
   "cell_type": "code",
   "execution_count": 10,
   "metadata": {},
   "outputs": [
    {
     "name": "stdout",
     "output_type": "stream",
     "text": [
      "[1]\n"
     ]
    }
   ],
   "source": [
    "print(search_list2(v, c))"
   ]
  },
  {
   "cell_type": "markdown",
   "metadata": {},
   "source": [
    "**결론은 문제는 틀렸다. 문제를 보고 x도 리스트로 들어가는 줄..**      \n",
    "**문제는 \"찾는 값이 나오는 모든 위치를 리스트로 돌려주는\"      \n",
    "그러니까 즉, 찾는 값이 33이라면 리스트에 들어가는 모든 33 의 위치를 찾아줘야 하는 문제였다**     \n",
    "**그러나 빈 리스트를 써야한다는 발상을 해냈기 때문에 어느정도 절반은 맞았다고 생각한다!**\n",
    "\n",
    "### 정답"
   ]
  },
  {
   "cell_type": "code",
   "execution_count": 11,
   "metadata": {},
   "outputs": [],
   "source": [
    "def search_list2(a,x):\n",
    "    n=len(a)    \n",
    "    result = []\n",
    "    \n",
    "    for i in range(0, n):  \n",
    "        if x == a[i]:   \n",
    "            result.append(i)   \n",
    "\n",
    "    return result"
   ]
  },
  {
   "cell_type": "code",
   "execution_count": 12,
   "metadata": {},
   "outputs": [
    {
     "name": "stdout",
     "output_type": "stream",
     "text": [
      "[2]\n",
      "[3, 6]\n",
      "[]\n"
     ]
    }
   ],
   "source": [
    "print(search_list2(v, 18))\n",
    "print(search_list2(v, 33))\n",
    "print(search_list2(v, 900))"
   ]
  },
  {
   "cell_type": "markdown",
   "metadata": {},
   "source": [
    " ### 3-2     \n",
    ">연습 문제 7-1 프로그램의 계산 복잡도는 무엇일까요?     \n",
    "\n",
    ">* 똑같이 O(n)이다. 결국 for 문을 통해 순차탐색을 한다는 점은 다르지 않기 때문이다.\n",
    "\n"
   ]
  },
  {
   "cell_type": "markdown",
   "metadata": {},
   "source": [
    "### 3-3    \n",
    ">다음과 같이 학생 번호와 이름이 리스트로 주어졌을 떄 학생 번호를 입력하면     \n",
    "학생 번호에 해당하는 이름을 순차 탐색으로 찾아 돌려주는 함수를 만들어 보세요      \n",
    "해당하는 학생 번호가 없으면 물음표(?)를 돌려줍니다    \n",
    "\n",
    ">참고로 학생 번호가 39번이면 \"justin\", 14번이면 \"john\"을 돌려줍니다.\n"
   ]
  },
  {
   "cell_type": "markdown",
   "metadata": {},
   "source": [
    "**결론 못 풀었다... 문제를 자꾸 어렵게 생각하는 것 같다.**     \n",
    "**리스트를 i번째로 활용해서 푸는 방법일 줄 몰랐다. 딕셔너리 형태로 해결해야 하는 줄 알았는데 \n",
    "오히려 리스트를 활용하면 더 간단하게 해결이 가능했다**\n",
    "\n",
    "참고 https://thebook.io/006935/partxt/xa/07-01/\n"
   ]
  },
  {
   "cell_type": "code",
   "execution_count": 13,
   "metadata": {},
   "outputs": [],
   "source": [
    "def get_name(s_no, s_name, find_no):\n",
    "\n",
    "    n = len(s_no)               \n",
    "\n",
    "    for i in range(0, n):\n",
    "\n",
    "        if find_no == s_no[i]: # 학생 번호가 찾는 학생 번호와 같으면\n",
    "\n",
    "            return s_name[i]    # 해당하는 학생 이름을 결과로 반환\n",
    "\n",
    " \n",
    "\n",
    "    return \"?\"                  "
   ]
  },
  {
   "cell_type": "code",
   "execution_count": 17,
   "metadata": {},
   "outputs": [],
   "source": [
    "sample_no = [39, 14, 67, 105]\n",
    "sample_name = [\"Justin\", \"John\", \"Mike\", \"Summer\"]"
   ]
  },
  {
   "cell_type": "code",
   "execution_count": 19,
   "metadata": {},
   "outputs": [
    {
     "name": "stdout",
     "output_type": "stream",
     "text": [
      "Justin\n",
      "?\n"
     ]
    }
   ],
   "source": [
    "print(get_name(sample_no, sample_name, 39))\n",
    "print(get_name(sample_no, sample_name, 900))"
   ]
  },
  {
   "cell_type": "code",
   "execution_count": null,
   "metadata": {},
   "outputs": [],
   "source": []
  }
 ],
 "metadata": {
  "kernelspec": {
   "display_name": "Python 3",
   "language": "python",
   "name": "python3"
  },
  "language_info": {
   "codemirror_mode": {
    "name": "ipython",
    "version": 3
   },
   "file_extension": ".py",
   "mimetype": "text/x-python",
   "name": "python",
   "nbconvert_exporter": "python",
   "pygments_lexer": "ipython3",
   "version": "3.7.4"
  }
 },
 "nbformat": 4,
 "nbformat_minor": 2
}
