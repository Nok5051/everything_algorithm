{
 "cells": [
  {
   "cell_type": "markdown",
   "metadata": {},
   "source": [
    "# 1. 문제 설명\n",
    "n 명의 사람 이름 중에서 같은 이름을 찾아 집합으로 만들어 돌려주는 알고리즘을 만들어 보세요.\n",
    "\n",
    "> **집합**   \n",
    ">집합은 리스트와 같이 정보를 여러 개 넣어서 보관할 수 있는 파이썬의 기능        \n",
    "\n",
    "> **집합의 특징(리스트와 차별성)**\n",
    "> * 집합 하나에는 같은 자료가 중복되어 들어가지 않는다.\n",
    "> * 자료의 순서도 의미가 없다"
   ]
  },
  {
   "cell_type": "markdown",
   "metadata": {},
   "source": [
    "### 1-1 집합 예제"
   ]
  },
  {
   "cell_type": "code",
   "execution_count": 5,
   "metadata": {},
   "outputs": [],
   "source": [
    "s = set()\n",
    "\n",
    "s.add(1)\n",
    "s.add(2)\n",
    "s.add(2)"
   ]
  },
  {
   "cell_type": "code",
   "execution_count": 11,
   "metadata": {},
   "outputs": [
    {
     "name": "stdout",
     "output_type": "stream",
     "text": [
      "{1, 2}\n",
      "2\n"
     ]
    }
   ],
   "source": [
    "# add(2)를 두번 실행했지만 2는 중복해서 들어가지 않았음\n",
    "print(s)\n",
    "print(len(s))"
   ]
  },
  {
   "cell_type": "code",
   "execution_count": 13,
   "metadata": {},
   "outputs": [
    {
     "data": {
      "text/plain": [
       "True"
      ]
     },
     "execution_count": 13,
     "metadata": {},
     "output_type": "execute_result"
    }
   ],
   "source": [
    "# 자료의 순서는 무관하므로 True\n",
    "{1, 2} == {2, 1}"
   ]
  },
  {
   "cell_type": "markdown",
   "metadata": {},
   "source": [
    "# 2. 알고리즘"
   ]
  },
  {
   "cell_type": "code",
   "execution_count": 15,
   "metadata": {},
   "outputs": [],
   "source": [
    "def find_same_name(a):\n",
    "    n = len(a)\n",
    "    result= set()\n",
    "    \n",
    "    for i in range(0, n - 1):\n",
    "        for j in range(i + 1, n):\n",
    "            if a[i] == a[j]:\n",
    "                result.add(a[i])\n",
    "                \n",
    "    return result\n",
    "        "
   ]
  },
  {
   "cell_type": "code",
   "execution_count": 16,
   "metadata": {},
   "outputs": [
    {
     "name": "stdout",
     "output_type": "stream",
     "text": [
      "{'Tom'}\n"
     ]
    }
   ],
   "source": [
    "name = [\"Tom\", \"Jerry\", \"Mike\", \"Tom\"]\n",
    "print(find_same_name(name))"
   ]
  },
  {
   "cell_type": "code",
   "execution_count": 18,
   "metadata": {},
   "outputs": [
    {
     "name": "stdout",
     "output_type": "stream",
     "text": [
      "{'Tom', 'Mike'}\n"
     ]
    }
   ],
   "source": [
    "name2 = [\"Tom\", \"Jerry\", \"Mike\", \"Tom\", \"Mike\"]\n",
    "print(find_same_name(name2))"
   ]
  },
  {
   "cell_type": "markdown",
   "metadata": {},
   "source": [
    "## 2-1 해설\n",
    "> * for 문을 이중으로 하여 a[i]번을 기준으로 a[j]가 같은 값을 같는다면 그 같은 값 집합으로 반환하게 해주었음   \n",
    "> * 첫 번쨰 for 문에서 range(0, n-1) 을 준 이유는 리스트의 마지막 값은 이미 앞에서 다른 자료와 비교하기도 하였고 비교할 수 있는 리스트가 없기 때문에 제외해준다."
   ]
  },
  {
   "cell_type": "markdown",
   "metadata": {},
   "source": [
    "# 3. 문제\n",
    "\n",
    "### 3-1 n명 두 명을 뽑아 짝을 짓는다고 할 떄 짝을 지을 수 있는 모든 조합을 출력하는 알고리즘을 만들어 보세요.\n",
    "> 예를 들어 입력이 리스트 [\"Tom\", \"Jerry\", \"Mike\"] 라면 다음과 같은 세 가지 경우를 출력합니다.    \n",
    "> \n",
    "> Tom - Jerry   \n",
    "> Tom - Mike   \n",
    "> Jerry - MIke"
   ]
  },
  {
   "cell_type": "code",
   "execution_count": 35,
   "metadata": {},
   "outputs": [],
   "source": [
    "def find_arrange_name(a):\n",
    "    n = len(a)\n",
    "    result= set()\n",
    "    \n",
    "    for i in range(0, n - 1):\n",
    "        for j in range(i + 1, n):\n",
    "            result.add(a[i] + \"-\" + a[j])\n",
    "    \n",
    "    return result"
   ]
  },
  {
   "cell_type": "code",
   "execution_count": 36,
   "metadata": {},
   "outputs": [
    {
     "name": "stdout",
     "output_type": "stream",
     "text": [
      "{'Jerry-Mike', 'Tom-Jerry', 'Tom-Mike'}\n"
     ]
    }
   ],
   "source": [
    "name_list = [\"Tom\", \"Jerry\", \"Mike\"]\n",
    "print(find_arrange_name(name_list))"
   ]
  },
  {
   "cell_type": "code",
   "execution_count": 38,
   "metadata": {},
   "outputs": [
    {
     "name": "stdout",
     "output_type": "stream",
     "text": [
      "{'Tom-Knija', 'Jerry-Sj', 'Jerry-Mike', 'Tom-Sj', 'Jerry-Knija', 'Tom-Jerry', 'Tom-Mike', 'Sj-Knija', 'Mike-Sj', 'Mike-Knija'}\n"
     ]
    }
   ],
   "source": [
    "name_list2 = [\"Tom\", \"Jerry\", \"Mike\", \"Sj\", \"Knija\"]\n",
    "print(find_arrange_name(name_list2))"
   ]
  },
  {
   "cell_type": "markdown",
   "metadata": {},
   "source": [
    "**이렇게 하는게 맞는지 모르겠음 ...**"
   ]
  },
  {
   "cell_type": "markdown",
   "metadata": {},
   "source": [
    "### 3-2 다음 식을 각각 대문자 O 표기법으로 표현해 보세요.\n",
    "\n",
    "> A. 65536     \n",
    "> *  그냥 정수라서 $ O(1) $ 이지 않을까...?\n",
    "\n",
    "> B. $ n - 1 $ \n",
    "> * 어떤 수가 들어와도 뺼셈 한 번뿐이니 $ O(1) $\n",
    "\n",
    "> C. $ {2n^2 \\over 3} + 10000n $     \n",
    "> * n이 커지면 계산시간은 제곱에 비례하므로 $ O(n^2) $ \n",
    "\n",
    "> D. $ 3n^4 - 4n^3 + 5n^2 - 6n + 7 $\n",
    "> * 마찬가지로 n이 커지면 계산시간이 제곱에 비례하지 않을까 싶음 $ O(n^2) $ \n",
    "\n",
    "\n",
    "**결론 = 계산복잡도를 생각하는게 아직 미숙함...**"
   ]
  },
  {
   "cell_type": "code",
   "execution_count": null,
   "metadata": {},
   "outputs": [],
   "source": []
  },
  {
   "cell_type": "code",
   "execution_count": null,
   "metadata": {},
   "outputs": [],
   "source": []
  }
 ],
 "metadata": {
  "kernelspec": {
   "display_name": "Python 3",
   "language": "python",
   "name": "python3"
  },
  "language_info": {
   "codemirror_mode": {
    "name": "ipython",
    "version": 3
   },
   "file_extension": ".py",
   "mimetype": "text/x-python",
   "name": "python",
   "nbconvert_exporter": "python",
   "pygments_lexer": "ipython3",
   "version": "3.7.4"
  }
 },
 "nbformat": 4,
 "nbformat_minor": 2
}
