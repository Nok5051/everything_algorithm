{
 "cells": [
  {
   "cell_type": "markdown",
   "metadata": {},
   "source": [
    "# 1. 문제 설명\n",
    "\n",
    "주어진 숫자 n 개 중 가장 큰 숫자를 찾는 알고리즘을 만들어 보세요.\n",
    "\n",
    "## 1-1 알고리즘"
   ]
  },
  {
   "cell_type": "code",
   "execution_count": 2,
   "metadata": {},
   "outputs": [],
   "source": [
    "def find_max(a):\n",
    "    n = len(a)\n",
    "    max_v = a[0]\n",
    "    \n",
    "    for i in range(1, n):\n",
    "        if a[i] > max_v:\n",
    "            max_v = a[i]\n",
    "            \n",
    "    return max_v"
   ]
  },
  {
   "cell_type": "code",
   "execution_count": 3,
   "metadata": {},
   "outputs": [
    {
     "name": "stdout",
     "output_type": "stream",
     "text": [
      "92\n"
     ]
    }
   ],
   "source": [
    "v = [17, 92, 18, 33, 58, 7, 33, 42]\n",
    "\n",
    "print(find_max(v))"
   ]
  },
  {
   "cell_type": "markdown",
   "metadata": {},
   "source": [
    "## 1-1 해설\n",
    "> range(1, n) : 리스트의 첫번째 값(a[0])을 최댓값으로 기억하고 a[1]부터 비교 시작   \n",
    "> if문 : 비교하는 a[i] 이 변수로 지정된 max_y = a[0] 값보다 크면 max_y = a[i] 해당하는 값으로 변경"
   ]
  },
  {
   "cell_type": "markdown",
   "metadata": {},
   "source": [
    "# 2. 응용문제 설명\n",
    "\n",
    "리스트에 숫자가 n 개 있을 때 가장 큰 값이 있는 위치 번호를 돌려주는 알고리즘을 만들어 보세요.\n"
   ]
  },
  {
   "cell_type": "markdown",
   "metadata": {},
   "source": [
    "## 2-1 문제 풀이"
   ]
  },
  {
   "cell_type": "code",
   "execution_count": 4,
   "metadata": {},
   "outputs": [],
   "source": [
    "def find_max_idx(a):\n",
    "    n = len(a)\n",
    "    max_idx = 0\n",
    "    \n",
    "    for i in range(1, n):\n",
    "        if a[i] > a[max_idx]:\n",
    "            max_idx = i\n",
    "            \n",
    "    return max_idx"
   ]
  },
  {
   "cell_type": "code",
   "execution_count": 5,
   "metadata": {},
   "outputs": [
    {
     "name": "stdout",
     "output_type": "stream",
     "text": [
      "1\n"
     ]
    }
   ],
   "source": [
    "v = [17, 92, 18, 33, 58, 7, 33, 42]\n",
    "\n",
    "print(find_max_idx(v))"
   ]
  },
  {
   "cell_type": "markdown",
   "metadata": {},
   "source": [
    "## 2-2 해설\n",
    "> max_idx = 0 : 리스트 0번 위치부터 시작   \n",
    "> for i in range(1, n) : 리스트 1번 위치부터 n-1 번까지 비교   \n",
    "> if 문 : 리스트 a[i] 값이 지정된 max_idx 값보다 크면 max_idx 의 값을 해당 i의 값으로 변경   \n",
    "> for 문으로 지속 비교시 a[1] 이 최대값 idx 임을 알 수 있음"
   ]
  },
  {
   "cell_type": "markdown",
   "metadata": {},
   "source": [
    "# 3. 문제\n",
    "\n",
    "숫자 n개를 리스트로 입력받아 최솟값을 구하는 프로그램을 만들어 보세요. "
   ]
  },
  {
   "cell_type": "code",
   "execution_count": 17,
   "metadata": {},
   "outputs": [],
   "source": [
    "def find_min(a):\n",
    "    n = len(a)\n",
    "    min_v = a[0]\n",
    "    \n",
    "    for i in range(1, n):\n",
    "        if a[i] < min_v:   # 현재의 a의 i번쨰 값이기억된 min_v 의 값보다 작으면 수행\n",
    "            min_v = a[i]\n",
    "            \n",
    "    return min_v"
   ]
  },
  {
   "cell_type": "code",
   "execution_count": 18,
   "metadata": {},
   "outputs": [
    {
     "name": "stdout",
     "output_type": "stream",
     "text": [
      "7\n"
     ]
    }
   ],
   "source": [
    "v = [17, 92, 18, 33, 58, 7, 33, 42]\n",
    "\n",
    "print(find_min(v))"
   ]
  },
  {
   "cell_type": "code",
   "execution_count": null,
   "metadata": {},
   "outputs": [],
   "source": []
  },
  {
   "cell_type": "code",
   "execution_count": null,
   "metadata": {},
   "outputs": [],
   "source": []
  },
  {
   "cell_type": "code",
   "execution_count": null,
   "metadata": {},
   "outputs": [],
   "source": []
  }
 ],
 "metadata": {
  "kernelspec": {
   "display_name": "Python 3",
   "language": "python",
   "name": "python3"
  },
  "language_info": {
   "codemirror_mode": {
    "name": "ipython",
    "version": 3
   },
   "file_extension": ".py",
   "mimetype": "text/x-python",
   "name": "python",
   "nbconvert_exporter": "python",
   "pygments_lexer": "ipython3",
   "version": "3.7.4"
  }
 },
 "nbformat": 4,
 "nbformat_minor": 2
}
