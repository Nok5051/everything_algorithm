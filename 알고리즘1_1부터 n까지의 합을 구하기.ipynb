{
 "cells": [
  {
   "cell_type": "markdown",
   "metadata": {},
   "source": [
    "# 1번, 알고리즘 \n",
    "\n",
    "* 계산할 변수 s에 0을 넣고 첫 번째 수인 1을 더하는 것으로 계산을 시작"
   ]
  },
  {
   "cell_type": "code",
   "execution_count": 1,
   "metadata": {},
   "outputs": [],
   "source": [
    "def sum_n1(n):\n",
    "    s = 0\n",
    "    \n",
    "    for i in range(1, n + 1):\n",
    "        s = s + i \n",
    "        \n",
    "    return s "
   ]
  },
  {
   "cell_type": "code",
   "execution_count": 2,
   "metadata": {},
   "outputs": [
    {
     "name": "stdout",
     "output_type": "stream",
     "text": [
      "55\n"
     ]
    }
   ],
   "source": [
    "print(sum_n1(10))"
   ]
  },
  {
   "cell_type": "code",
   "execution_count": 3,
   "metadata": {},
   "outputs": [
    {
     "name": "stdout",
     "output_type": "stream",
     "text": [
      "5050\n"
     ]
    }
   ],
   "source": [
    "print(sum_n1(100))"
   ]
  },
  {
   "cell_type": "markdown",
   "metadata": {},
   "source": [
    "# 2번, 알고리즘 "
   ]
  },
  {
   "cell_type": "code",
   "execution_count": 4,
   "metadata": {},
   "outputs": [],
   "source": [
    "def sum_n2(n):\n",
    "    return n * (n + 1) // 2"
   ]
  },
  {
   "cell_type": "code",
   "execution_count": 6,
   "metadata": {},
   "outputs": [
    {
     "name": "stdout",
     "output_type": "stream",
     "text": [
      "55\n"
     ]
    }
   ],
   "source": [
    "print(sum_n2(10))"
   ]
  },
  {
   "cell_type": "code",
   "execution_count": 7,
   "metadata": {},
   "outputs": [
    {
     "name": "stdout",
     "output_type": "stream",
     "text": [
      "5050\n"
     ]
    }
   ],
   "source": [
    "print(sum_n2(100))"
   ]
  },
  {
   "cell_type": "markdown",
   "metadata": {},
   "source": [
    "# 3, 해설\n",
    "\n",
    "> 1번 알고리즘 : 차례로 1, 2, 3 ... 을 더해서 합계를 구하는 프로그램의 경우 10까지의 합을 구하려면 덧셈을 10번, 100까지의 합을 구하려면 덧셈을 100번 수행 = **덧셈 n 번**    \n",
    ">> 1번, 필요한 계산 횟수가 입력 크기에 '정비례' 하기 때문에 O(n) \n",
    "\n",
    "> 2번 알고리즘 : 입력 크기 n이 아무리 큰 수라고 덧셈을 한 번, 곱셈을 한 번, 나눗셈을 한 번  = **총 3번만 수행**\n",
    ">>2번, 필요한 계산 횟수가 입력 크기와 무관할 떄 O(1)\n",
    "\n",
    "### = 결론 : 입력 크기가 큰 문제를 풀 떄는 보통 O(1)인 알고리즘이 훨씬 빠르다"
   ]
  },
  {
   "cell_type": "markdown",
   "metadata": {},
   "source": [
    "# 4, 문제 (응용)\n",
    "### 4-1 \n",
    "* 1부터 n 까지의 연속한 숫자의 제곱의 합을 구하는 프로그램을 for 반복문으로 만들어 보세요    \n",
    "**예를 들어 n = 10 이라면 $1^2 + 2^2 + 3^2 + .... 10^2 = 385$ 를 계산하는 프로그램**"
   ]
  },
  {
   "cell_type": "code",
   "execution_count": 14,
   "metadata": {},
   "outputs": [],
   "source": [
    "def sum_square(n):\n",
    "    s = 0 \n",
    "    \n",
    "    for i in range(1, n + 1):\n",
    "        s = s + i ** 2 \n",
    "        \n",
    "    return s "
   ]
  },
  {
   "cell_type": "code",
   "execution_count": 15,
   "metadata": {},
   "outputs": [
    {
     "name": "stdout",
     "output_type": "stream",
     "text": [
      "385\n"
     ]
    }
   ],
   "source": [
    "print(sum_square(10))"
   ]
  },
  {
   "cell_type": "markdown",
   "metadata": {},
   "source": [
    "### 4-2\n",
    "* 연습 문제 4-1 의 프로그램의 계산 복잡도는 O(1) 과 O(n) 중 무엇일까요?\n",
    "> O(n) : 1번 알고리즘과 같이 입력크기 n 번 만큼 제곱과 덧셈이 지속되기 때문이다."
   ]
  },
  {
   "cell_type": "markdown",
   "metadata": {},
   "source": [
    "### 4-3 \n",
    "* 1부터 n 까지 연속한 숫자의 지곱의 합을 구하는 공식은 $ n(n+1)(2n+1) \\over 6 $ 로 알려져 있습니다. for 반복문 대신 이 공식을 이용하면 알고리즘의 계산 복잡도는 O(1) 과 O(n) 중 무엇이 될까요?\n",
    "> O(1) : 입력 크기가 변환되어도 덧셈 2번, 곱셉 1번, 나눗셈 1번으로 계산홧수가 지속적이므로 "
   ]
  },
  {
   "cell_type": "code",
   "execution_count": null,
   "metadata": {},
   "outputs": [],
   "source": []
  }
 ],
 "metadata": {
  "kernelspec": {
   "display_name": "Python 3",
   "language": "python",
   "name": "python3"
  },
  "language_info": {
   "codemirror_mode": {
    "name": "ipython",
    "version": 3
   },
   "file_extension": ".py",
   "mimetype": "text/x-python",
   "name": "python",
   "nbconvert_exporter": "python",
   "pygments_lexer": "ipython3",
   "version": "3.7.4"
  },
  "widgets": {
   "application/vnd.jupyter.widget-state+json": {
    "state": {},
    "version_major": 2,
    "version_minor": 0
   }
  }
 },
 "nbformat": 4,
 "nbformat_minor": 2
}
