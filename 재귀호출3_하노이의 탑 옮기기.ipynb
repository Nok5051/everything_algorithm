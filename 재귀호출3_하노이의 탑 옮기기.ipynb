{
 "cells": [
  {
   "cell_type": "markdown",
   "metadata": {},
   "source": [
    "# 1. 문제 설명\n",
    "원반이 n개인 하노이의 탑을 옮기기 위한 원반 이동 순서를 출력하는 알고리즘을 만들어 보세요    \n",
    "(크기가 다른 원반 n개를 출발점 기둥에서 도착점 기둥으로 전부 옮겨야한다.)\n",
    "\n",
    "> **제약사항**    \n",
    "> * 원반은 한 번에 한 개씩만 옮길 수 있다.    \n",
    "> * 각 기둥 맨 위의 원반을 다른 기둥의 맨 위로만 움직여야 한다.    \n",
    "> * 옮기는 과정에서 큰 원반을 작은 원반 위에 올려서는 안된다."
   ]
  },
  {
   "cell_type": "markdown",
   "metadata": {},
   "source": [
    "## 2. 알고리즘 \n",
    "\n",
    "> * n : 옮기려는 원반의 계수 \n",
    "> * from_pos : 옮길 원반이 현재 있는 출발점 기둥\n",
    "> * to_pos : 원반을 옮길 도착점 기둥 \n",
    "> * aux_pos : 옮기는 과정에서 사용할 보조 기둥"
   ]
  },
  {
   "cell_type": "code",
   "execution_count": 5,
   "metadata": {},
   "outputs": [],
   "source": [
    "def hanoi(n, from_pos, to_pos, aux_pos):\n",
    "    if n == 1:\n",
    "        print(from_pos, \"->\", to_pos)\n",
    "        \n",
    "        return\n",
    "    hanoi(n-1, from_pos, aux_pos, to_pos)\n",
    "    \n",
    "    print(from_pos, \"->\", to_pos)\n",
    "    \n",
    "    hanoi(n-1, aux_pos, to_pos, from_pos)"
   ]
  },
  {
   "cell_type": "code",
   "execution_count": 6,
   "metadata": {},
   "outputs": [
    {
     "name": "stdout",
     "output_type": "stream",
     "text": [
      "n = 1\n",
      "1 -> 3\n"
     ]
    }
   ],
   "source": [
    "print(\"n = 1\")\n",
    "hanoi(1, 1, 3, 2)"
   ]
  },
  {
   "cell_type": "code",
   "execution_count": 7,
   "metadata": {},
   "outputs": [
    {
     "name": "stdout",
     "output_type": "stream",
     "text": [
      "n = 2\n",
      "1 -> 2\n",
      "1 -> 3\n",
      "2 -> 3\n"
     ]
    }
   ],
   "source": [
    "print(\"n = 2\")\n",
    "hanoi(2, 1, 3, 2)"
   ]
  },
  {
   "cell_type": "code",
   "execution_count": 8,
   "metadata": {},
   "outputs": [
    {
     "name": "stdout",
     "output_type": "stream",
     "text": [
      "n = 3\n",
      "1 -> 3\n",
      "1 -> 2\n",
      "3 -> 2\n",
      "1 -> 3\n",
      "2 -> 1\n",
      "2 -> 3\n",
      "1 -> 3\n"
     ]
    }
   ],
   "source": [
    "print(\"n = 3\")\n",
    "hanoi(3, 1, 3, 2)"
   ]
  },
  {
   "cell_type": "code",
   "execution_count": null,
   "metadata": {},
   "outputs": [],
   "source": []
  }
 ],
 "metadata": {
  "kernelspec": {
   "display_name": "Python 3",
   "language": "python",
   "name": "python3"
  },
  "language_info": {
   "codemirror_mode": {
    "name": "ipython",
    "version": 3
   },
   "file_extension": ".py",
   "mimetype": "text/x-python",
   "name": "python",
   "nbconvert_exporter": "python",
   "pygments_lexer": "ipython3",
   "version": "3.7.4"
  }
 },
 "nbformat": 4,
 "nbformat_minor": 2
}
